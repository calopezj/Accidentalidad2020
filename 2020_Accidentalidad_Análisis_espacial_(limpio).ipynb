{
  "nbformat": 4,
  "nbformat_minor": 0,
  "metadata": {
    "colab": {
      "name": "2020 Accidentalidad - Análisis espacial (limpio).ipynb",
      "provenance": [],
      "collapsed_sections": [],
      "toc_visible": true,
      "include_colab_link": true
    },
    "kernelspec": {
      "name": "python3",
      "display_name": "Python 3"
    }
  },
  "cells": [
    {
      "cell_type": "markdown",
      "metadata": {
        "id": "view-in-github",
        "colab_type": "text"
      },
      "source": [
        "<a href=\"https://colab.research.google.com/github/calopezj/Accidentalidad2020/blob/master/2020_Accidentalidad_An%C3%A1lisis_espacial_(limpio).ipynb\" target=\"_parent\"><img src=\"https://colab.research.google.com/assets/colab-badge.svg\" alt=\"Open In Colab\"/></a>"
      ]
    },
    {
      "cell_type": "code",
      "metadata": {
        "id": "YOYD1XUC9fHg",
        "colab_type": "code",
        "colab": {}
      },
      "source": [
        "import pandas as pd\n",
        "import datetime\n",
        "import folium\n",
        "from folium.map import *\n",
        "from folium import plugins\n",
        "from folium.plugins import MeasureControl\n",
        "from folium.plugins import FloatImage"
      ],
      "execution_count": null,
      "outputs": []
    },
    {
      "cell_type": "code",
      "metadata": {
        "id": "LxTfH_PA9hu1",
        "colab_type": "code",
        "colab": {}
      },
      "source": [
        "pdAccidentalidad = pd.read_csv(\n",
        "    \"https://raw.githubusercontent.com/calopezj/Accidentalidad/master/accidentalidad.csv\",\n",
        "    sep = ';',         # separador de campos\n",
        "    thousands = None,  # separador de miles para números\n",
        "    decimal = '.')     # separador de los decimales para números\n",
        "pdAccidentalidad.head()"
      ],
      "execution_count": null,
      "outputs": []
    },
    {
      "cell_type": "markdown",
      "metadata": {
        "id": "jyv9c7jygA5D",
        "colab_type": "text"
      },
      "source": [
        "##Datos básicos"
      ]
    },
    {
      "cell_type": "code",
      "metadata": {
        "id": "2nQ2dh9Gf_Vl",
        "colab_type": "code",
        "colab": {}
      },
      "source": [
        "print(len(pdAccidentalidad))\n",
        "pdAccidentalidad.columns"
      ],
      "execution_count": null,
      "outputs": []
    },
    {
      "cell_type": "markdown",
      "metadata": {
        "id": "HKpgEolPi2ZD",
        "colab_type": "text"
      },
      "source": [
        "## Subset con los datos necesarios:\n",
        "1. Cree un subset con solo los datos correpondientes a las columnas 'location', 'FECHA_ACCIDENTE', 'Año', 'CLASE_ACCIDENTE', 'barrio'"
      ]
    },
    {
      "cell_type": "code",
      "metadata": {
        "id": "Eakb_QobhpM0",
        "colab_type": "code",
        "colab": {
          "base_uri": "https://localhost:8080/",
          "height": 33
        },
        "outputId": "a3a3d394-13e1-4a97-9e45-b03acc6cc669"
      },
      "source": [
        "pdAccidentalidad_new_SubSet = #..."
      ],
      "execution_count": null,
      "outputs": [
        {
          "output_type": "stream",
          "text": [
            "56914\n"
          ],
          "name": "stdout"
        }
      ]
    },
    {
      "cell_type": "markdown",
      "metadata": {
        "id": "EptMztQXmkX-",
        "colab_type": "text"
      },
      "source": [
        "## Identificar barrios con mayor cantidad de accidentes\n",
        "2. Liste los 10 barrios en los que mas accidentes se han presentado"
      ]
    },
    {
      "cell_type": "code",
      "metadata": {
        "id": "CPLXjHeai8as",
        "colab_type": "code",
        "colab": {}
      },
      "source": [
        "pdAccidentalidad_new_SubSet.groupby('barrio')..."
      ],
      "execution_count": null,
      "outputs": []
    },
    {
      "cell_type": "markdown",
      "metadata": {
        "id": "mo_XALDInJOE",
        "colab_type": "text"
      },
      "source": [
        "## Accidentes de un barrio determinado\n",
        "3. Construya un subset con los accidentes ocurridos en un barrio determinado."
      ]
    },
    {
      "cell_type": "code",
      "metadata": {
        "id": "iVOhSs63nMpS",
        "colab_type": "code",
        "colab": {}
      },
      "source": [
        "pdAccidentes = pdAccidentalidad_new_SubSet[..."
      ],
      "execution_count": null,
      "outputs": []
    },
    {
      "cell_type": "markdown",
      "metadata": {
        "id": "Zw_vRiGhyIKF",
        "colab_type": "text"
      },
      "source": [
        "### Extraemos la posición de cada accidente\n",
        "4. A partir de la columna \"location\", cree dos columnas nuevas, una con la longitud y otra con la latitud correspondiente a las coordenadas del accidente."
      ]
    },
    {
      "cell_type": "code",
      "metadata": {
        "id": "sfP23xg6MGdy",
        "colab_type": "code",
        "colab": {}
      },
      "source": [
        "lista = pdAccidentes[\"location\"].str.split(\",\", n = 1, expand = True)\n",
        "pdAccidentes[\"longitud\"] = lista[0]\n",
        "pdAccidentes[\"latitud\"] = lista[1]\n",
        "#pdAccidentes.loc[:, \"longitud3\"] = lista[0]\n",
        "\n",
        "pdAccidentes\n"
      ],
      "execution_count": null,
      "outputs": []
    },
    {
      "cell_type": "markdown",
      "metadata": {
        "id": "K7mN-DGq0Kii",
        "colab_type": "text"
      },
      "source": [
        "### Limpiamos caracteres innecesarios"
      ]
    },
    {
      "cell_type": "code",
      "metadata": {
        "id": "EQoNJGSw0IdV",
        "colab_type": "code",
        "colab": {}
      },
      "source": [
        "pdAccidentes[\"longitud\"] = pdAccidentes[\"longitud\"].str.replace(\"[\",\"\")\n",
        "pdAccidentes[\"latitud\"] = pdAccidentes[\"latitud\"].str.replace(\"]\",\"\")\n",
        "\n",
        "pdAccidentes"
      ],
      "execution_count": null,
      "outputs": []
    },
    {
      "cell_type": "markdown",
      "metadata": {
        "id": "9PS44S5B4yKk",
        "colab_type": "text"
      },
      "source": [
        "## Conversion de tipos de datos\n",
        "Dado que la herramienta de georreferenciación recibe como parámetros coordenadas numericas, cambie el formato de string a float de los datos latitud y longitud de cada registro."
      ]
    },
    {
      "cell_type": "code",
      "metadata": {
        "id": "nWETM3vr4xC2",
        "colab_type": "code",
        "colab": {}
      },
      "source": [
        "pdAccidentes[\"longitud\"] = pdAccidentes[\"longitud\"].astype(float)\n",
        "pdAccidentes[\"latitud\"] = pdAccidentes[\"latitud\"].astype(float)"
      ],
      "execution_count": null,
      "outputs": []
    },
    {
      "cell_type": "markdown",
      "metadata": {
        "id": "y0h0TjqA2kuE",
        "colab_type": "text"
      },
      "source": [
        "## Promedio de coordenadas\n",
        "La herramienta de georreferenciación requiere un punto central para dibujar el mapa base. Dicho punto puede ser el promedio de latitudes y longitudes de los diferentes accidentes."
      ]
    },
    {
      "cell_type": "code",
      "metadata": {
        "id": "AJvYgUSp2jr-",
        "colab_type": "code",
        "colab": {
          "base_uri": "https://localhost:8080/",
          "height": 50
        },
        "outputId": "a1bbd9c8-e963-4af7-b671-c472fb9c07e7"
      },
      "source": [
        "LongitudProm = pdAccidentes[\"longitud\"].mean()\n",
        "print(LongitudProm)\n",
        "LatitudProm = pdAccidentes[\"latitud\"].mean()\n",
        "print(LatitudProm)\n"
      ],
      "execution_count": null,
      "outputs": [
        {
          "output_type": "stream",
          "text": [
            "-75.58303720071171\n",
            "6.240855986593889\n"
          ],
          "name": "stdout"
        }
      ]
    },
    {
      "cell_type": "markdown",
      "metadata": {
        "id": "GkD_FdvqfH1l",
        "colab_type": "text"
      },
      "source": [
        "# Analisis Espacial"
      ]
    },
    {
      "cell_type": "code",
      "metadata": {
        "id": "2qepSsyC-A7c",
        "colab_type": "code",
        "colab": {}
      },
      "source": [
        "m = folium.Map(\n",
        "    location=[float(LatitudProm), float(LongitudProm)],\n",
        "    #location=[6.24085598659, -75.58303720071],\n",
        "    #tiles='Stamen Toner',\n",
        "    tiles='Stamen Terrain',\n",
        "    zoom_start=16\n",
        ")\n",
        "m\n",
        "\n"
      ],
      "execution_count": null,
      "outputs": []
    },
    {
      "cell_type": "code",
      "metadata": {
        "id": "olG29WSs_MSU",
        "colab_type": "code",
        "colab": {}
      },
      "source": [
        "tooltip = 'Accidente'\n",
        "\n",
        "for index, row in pdAccidentes.iterrows():\n",
        "\n",
        "  folium.Marker([float(row['latitud']), float(row['longitud'])], popup='Accidente', tooltip=tooltip).add_to(m)\n",
        "\n",
        "m"
      ],
      "execution_count": null,
      "outputs": []
    }
  ]
}