{
  "nbformat": 4,
  "nbformat_minor": 0,
  "metadata": {
    "colab": {
      "name": "2020 Accidentalidad - Análisis temporal (limpio).ipynb",
      "provenance": [],
      "collapsed_sections": [],
      "toc_visible": true,
      "include_colab_link": true
    },
    "kernelspec": {
      "name": "python3",
      "display_name": "Python 3"
    }
  },
  "cells": [
    {
      "cell_type": "markdown",
      "metadata": {
        "id": "view-in-github",
        "colab_type": "text"
      },
      "source": [
        "<a href=\"https://colab.research.google.com/github/calopezj/Accidentalidad2020/blob/master/2020_Accidentalidad_An%C3%A1lisis_temporal_(limpio).ipynb\" target=\"_parent\"><img src=\"https://colab.research.google.com/assets/colab-badge.svg\" alt=\"Open In Colab\"/></a>"
      ]
    },
    {
      "cell_type": "code",
      "metadata": {
        "id": "YOYD1XUC9fHg",
        "colab_type": "code",
        "colab": {}
      },
      "source": [
        "import pandas as pd\n",
        "import datetime\n"
      ],
      "execution_count": null,
      "outputs": []
    },
    {
      "cell_type": "markdown",
      "metadata": {
        "id": "mta3bkM7bnlp",
        "colab_type": "text"
      },
      "source": [
        "1 - Cree un DataFrame a partir del dataset de accidentalidad publicado en la URL:\n",
        "\"https://raw.githubusercontent.com/calopezj/Accidentalidad/master/accidentalidad.csv\"\n"
      ]
    },
    {
      "cell_type": "code",
      "metadata": {
        "id": "LxTfH_PA9hu1",
        "colab_type": "code",
        "colab": {}
      },
      "source": [
        "#pdAccidentalidad = pd.read_csv(..."
      ],
      "execution_count": null,
      "outputs": []
    },
    {
      "cell_type": "markdown",
      "metadata": {
        "id": "9b_SqyvDPf-q",
        "colab_type": "text"
      },
      "source": [
        "# Análisis temporal"
      ]
    },
    {
      "cell_type": "markdown",
      "metadata": {
        "id": "jyv9c7jygA5D",
        "colab_type": "text"
      },
      "source": [
        "### Creamos una columna tipo Datetime\n",
        "2. Cree una nueva columna en el dataframe que se llame \"Date\" con formato datetime, cuya información corresponda la los datos de la columna \"FECHA_ACCIDENTE\".\n",
        "\n",
        "**Use la función pd.to_datetime()**"
      ]
    },
    {
      "cell_type": "code",
      "metadata": {
        "id": "2nQ2dh9Gf_Vl",
        "colab_type": "code",
        "cellView": "code",
        "colab": {}
      },
      "source": [
        "#pdAccidentalidad['Date'] = ...\n",
        "#pdAccidentalidad.head(10)"
      ],
      "execution_count": null,
      "outputs": []
    },
    {
      "cell_type": "markdown",
      "metadata": {
        "id": "BT3d1B_RzR84",
        "colab_type": "text"
      },
      "source": [
        "### Agrupamiento por medio-mes usando la función *resample*\n",
        "3. Utilice la función **resample** para agrupar la serie de tiempo correspondiente a la columna \"Date\". Agrupe por mes, cuente la cantidad de accidentes ocurridos en cada mes, muestre unicamente los accidentes ocurridos en el año 2018, y grafique los resultados."
      ]
    },
    {
      "cell_type": "code",
      "metadata": {
        "id": "1TsMo5Z1R25J",
        "colab_type": "code",
        "colab": {}
      },
      "source": [
        "#pdAccidentalidad[pdAccidentalidad['Año'] == 2018].resample('SM', on = \"Date\").count()['Id'].plot.bar()\n"
      ],
      "execution_count": null,
      "outputs": []
    },
    {
      "cell_type": "markdown",
      "metadata": {
        "id": "-TwUZcN_PI5U",
        "colab_type": "text"
      },
      "source": [
        "### Agrupamiento por año usando *groupby*\n",
        "4. Agrupe los datos usando la Columna \"Año\", cuente la cantidad de accidentes ocurridos en cada uno."
      ]
    },
    {
      "cell_type": "code",
      "metadata": {
        "id": "sV6l5UrhlAKY",
        "colab_type": "code",
        "colab": {}
      },
      "source": [
        "#pdAccidentalidad[['Año', 'EXPEDIENTE']]..."
      ],
      "execution_count": null,
      "outputs": []
    },
    {
      "cell_type": "markdown",
      "metadata": {
        "id": "Z0bUg6TdevyO",
        "colab_type": "text"
      },
      "source": [
        "5. Encuentre el promedio de accidentes por mes durante todos los años del dataset."
      ]
    },
    {
      "cell_type": "code",
      "metadata": {
        "id": "ckYhy-MNe27l",
        "colab_type": "code",
        "colab": {}
      },
      "source": [
        "#pdAcc2 = pdAccidentalidad[['Mes', 'Año', 'Id']]...\n",
        "#pdAcc2\n",
        "#pdAcc2.groupby('Mes')...\n"
      ],
      "execution_count": null,
      "outputs": []
    },
    {
      "cell_type": "markdown",
      "metadata": {
        "id": "tE6TbxXf1O1A",
        "colab_type": "text"
      },
      "source": [
        "## Análisis de días especiales"
      ]
    },
    {
      "cell_type": "markdown",
      "metadata": {
        "id": "9VyppATXOeQr",
        "colab_type": "text"
      },
      "source": [
        "### Definición de días hábiles\n",
        "6. Cree una nueva columna en el dataset que indique si el día en que ocurrió el accidente es un día habil o no. Utilice la función **map** para evaluar cada día de la serie \"Date\" y la función **weekday()** para identificar el día de la semana."
      ]
    },
    {
      "cell_type": "code",
      "metadata": {
        "id": "Qg2mbGkF0XIf",
        "colab_type": "code",
        "colab": {}
      },
      "source": [
        "#pdAccidentalidad['EsHabil'] = pdAccidentalidad['Date']....\n"
      ],
      "execution_count": null,
      "outputs": []
    },
    {
      "cell_type": "markdown",
      "metadata": {
        "id": "src8aaLFOq46",
        "colab_type": "text"
      },
      "source": [
        "### Comparación cantidad de accidentes en días hábiles *vs.* no hábiles\n",
        "7. Identifique si ocurren mas accidentes en días habiles o no habiles. Agrupe por año.\n"
      ]
    },
    {
      "cell_type": "code",
      "metadata": {
        "id": "Xtsdtz6vA4SD",
        "colab_type": "code",
        "colab": {}
      },
      "source": [
        "#pdAccidentalidad.groupby..."
      ],
      "execution_count": null,
      "outputs": []
    }
  ]
}